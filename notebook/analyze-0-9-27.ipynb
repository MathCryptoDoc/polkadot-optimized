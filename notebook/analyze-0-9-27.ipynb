{
 "cells": [
  {
   "cell_type": "markdown",
   "id": "d630a715-9081-4bb7-a970-84f4ec775115",
   "metadata": {},
   "source": [
    "# Detailed analysis for version 0.9.27 on Intel i7-12700\n",
    "\n",
    "Copyright 2022 https://www.math-crypto.com -- GNU General Public License"
   ]
  },
  {
   "cell_type": "markdown",
   "id": "317e8e25-e205-4b85-a8ee-2621dddd78fb",
   "metadata": {},
   "source": [
    "**New compared to v0.9.26**\n",
    "- Compile options where specified in Cargo.toml (as an overwritten production profile).\n",
    "- We can reliably use lto=off, thin, or fat.\n",
    "- Added opt-level=2 or 3 as option.\n",
    "- Code-units option is now 1 or 16.\n",
    "- No more production or release profile, since we have modified our own profile.\n",
    "- Also included time for signing extrinsic as extra score. However, not analyzed in this notebook.\n",
    "- Some util functions are moved to ``mathcrypto.py``"
   ]
  },
  {
   "cell_type": "code",
   "execution_count": 1,
   "id": "70e12d0b-b6f1-400d-bb71-742d6bd2ed76",
   "metadata": {},
   "outputs": [],
   "source": [
    "import math\n",
    "import random\n",
    "import numpy as np\n",
    "import pandas as pd\n",
    "import matplotlib.pyplot as plt\n",
    "import matplotlib \n",
    "\n",
    "from mathcrypto import * # own utils functions\n",
    "\n",
    "matplotlib.rc('xtick', labelsize=12) \n",
    "matplotlib.rc('ytick', labelsize=12)\n",
    "plt.rcParams.update({'font.size': 16})"
   ]
  },
  {
   "cell_type": "markdown",
   "id": "75b06191-002f-4d50-97eb-a93fed994412",
   "metadata": {},
   "source": [
    "## Read parsed benchmark data. Clean up a bit."
   ]
  },
  {
   "cell_type": "code",
   "execution_count": 2,
   "id": "b2a4dd97-6f66-4142-931d-7055ebda52fa",
   "metadata": {},
   "outputs": [
    {
     "data": {
      "text/html": [
       "<div>\n",
       "<style scoped>\n",
       "    .dataframe tbody tr th:only-of-type {\n",
       "        vertical-align: middle;\n",
       "    }\n",
       "\n",
       "    .dataframe tbody tr th {\n",
       "        vertical-align: top;\n",
       "    }\n",
       "\n",
       "    .dataframe thead th {\n",
       "        text-align: right;\n",
       "    }\n",
       "</style>\n",
       "<table border=\"1\" class=\"dataframe\">\n",
       "  <thead>\n",
       "    <tr style=\"text-align: right;\">\n",
       "      <th></th>\n",
       "      <th>index</th>\n",
       "      <th>host</th>\n",
       "      <th>date</th>\n",
       "      <th>ver</th>\n",
       "      <th>nb_run</th>\n",
       "      <th>nb_build</th>\n",
       "      <th>cpu</th>\n",
       "      <th>BLAKE2-256</th>\n",
       "      <th>SR25519-Verify</th>\n",
       "      <th>Copy</th>\n",
       "      <th>Seq_Write</th>\n",
       "      <th>Rnd_Write</th>\n",
       "      <th>toolchain</th>\n",
       "      <th>arch</th>\n",
       "      <th>codegen-units</th>\n",
       "      <th>lto</th>\n",
       "      <th>opt-level</th>\n",
       "    </tr>\n",
       "  </thead>\n",
       "  <tbody>\n",
       "    <tr>\n",
       "      <th>0</th>\n",
       "      <td>0</td>\n",
       "      <td>work-pc</td>\n",
       "      <td>2022-Aug-08_13h11</td>\n",
       "      <td>0.9.27</td>\n",
       "      <td>6</td>\n",
       "      <td>17</td>\n",
       "      <td>0.0</td>\n",
       "      <td>1410.0</td>\n",
       "      <td>1004.79</td>\n",
       "      <td>22270.0</td>\n",
       "      <td>2920.0</td>\n",
       "      <td>1280.0</td>\n",
       "      <td>stable</td>\n",
       "      <td>alderlake</td>\n",
       "      <td>1</td>\n",
       "      <td>thin</td>\n",
       "      <td>3</td>\n",
       "    </tr>\n",
       "    <tr>\n",
       "      <th>1</th>\n",
       "      <td>1</td>\n",
       "      <td>work-pc</td>\n",
       "      <td>2022-Aug-08_13h11</td>\n",
       "      <td>0.9.27</td>\n",
       "      <td>15</td>\n",
       "      <td>32</td>\n",
       "      <td>0.0</td>\n",
       "      <td>1340.0</td>\n",
       "      <td>991.02</td>\n",
       "      <td>22870.0</td>\n",
       "      <td>3010.0</td>\n",
       "      <td>1290.0</td>\n",
       "      <td>nightly</td>\n",
       "      <td>none</td>\n",
       "      <td>16</td>\n",
       "      <td>fat</td>\n",
       "      <td>2</td>\n",
       "    </tr>\n",
       "    <tr>\n",
       "      <th>2</th>\n",
       "      <td>2</td>\n",
       "      <td>work-pc</td>\n",
       "      <td>2022-Aug-08_13h11</td>\n",
       "      <td>0.9.27</td>\n",
       "      <td>12</td>\n",
       "      <td>23</td>\n",
       "      <td>0.0</td>\n",
       "      <td>1410.0</td>\n",
       "      <td>987.82</td>\n",
       "      <td>23410.0</td>\n",
       "      <td>3020.0</td>\n",
       "      <td>1290.0</td>\n",
       "      <td>stable</td>\n",
       "      <td>alderlake</td>\n",
       "      <td>16</td>\n",
       "      <td>thin</td>\n",
       "      <td>3</td>\n",
       "    </tr>\n",
       "    <tr>\n",
       "      <th>3</th>\n",
       "      <td>3</td>\n",
       "      <td>work-pc</td>\n",
       "      <td>2022-Aug-08_13h11</td>\n",
       "      <td>0.9.27</td>\n",
       "      <td>16</td>\n",
       "      <td>24</td>\n",
       "      <td>0.1</td>\n",
       "      <td>1340.0</td>\n",
       "      <td>992.85</td>\n",
       "      <td>22150.0</td>\n",
       "      <td>2910.0</td>\n",
       "      <td>1260.0</td>\n",
       "      <td>nightly</td>\n",
       "      <td>none</td>\n",
       "      <td>1</td>\n",
       "      <td>off</td>\n",
       "      <td>2</td>\n",
       "    </tr>\n",
       "    <tr>\n",
       "      <th>4</th>\n",
       "      <td>4</td>\n",
       "      <td>work-pc</td>\n",
       "      <td>2022-Aug-08_13h11</td>\n",
       "      <td>0.9.27</td>\n",
       "      <td>13</td>\n",
       "      <td>8</td>\n",
       "      <td>0.0</td>\n",
       "      <td>1340.0</td>\n",
       "      <td>986.30</td>\n",
       "      <td>24430.0</td>\n",
       "      <td>2990.0</td>\n",
       "      <td>1300.0</td>\n",
       "      <td>stable</td>\n",
       "      <td>none</td>\n",
       "      <td>16</td>\n",
       "      <td>fat</td>\n",
       "      <td>2</td>\n",
       "    </tr>\n",
       "  </tbody>\n",
       "</table>\n",
       "</div>"
      ],
      "text/plain": [
       "   index     host               date     ver  nb_run nb_build  cpu  \\\n",
       "0      0  work-pc  2022-Aug-08_13h11  0.9.27       6       17  0.0   \n",
       "1      1  work-pc  2022-Aug-08_13h11  0.9.27      15       32  0.0   \n",
       "2      2  work-pc  2022-Aug-08_13h11  0.9.27      12       23  0.0   \n",
       "3      3  work-pc  2022-Aug-08_13h11  0.9.27      16       24  0.1   \n",
       "4      4  work-pc  2022-Aug-08_13h11  0.9.27      13        8  0.0   \n",
       "\n",
       "   BLAKE2-256  SR25519-Verify     Copy  Seq_Write  Rnd_Write toolchain  \\\n",
       "0      1410.0         1004.79  22270.0     2920.0     1280.0    stable   \n",
       "1      1340.0          991.02  22870.0     3010.0     1290.0   nightly   \n",
       "2      1410.0          987.82  23410.0     3020.0     1290.0    stable   \n",
       "3      1340.0          992.85  22150.0     2910.0     1260.0   nightly   \n",
       "4      1340.0          986.30  24430.0     2990.0     1300.0    stable   \n",
       "\n",
       "        arch  codegen-units   lto  opt-level  \n",
       "0  alderlake              1  thin          3  \n",
       "1       none             16   fat          2  \n",
       "2  alderlake             16  thin          3  \n",
       "3       none              1   off          2  \n",
       "4       none             16   fat          2  "
      ]
     },
     "execution_count": 2,
     "metadata": {},
     "output_type": "execute_result"
    }
   ],
   "source": [
    "df = pd.read_feather(\"processed/todo/0.9.27_i7-12700_2022-Aug-08_13h11.feather\")\n",
    "df['arch'] = df['arch'].fillna('none')\n",
    "df['host'] = df['host'].astype('category')\n",
    "df['arch'] = df['arch'].astype('category')\n",
    "df['ver'] = df['ver'].astype('category')\n",
    "# df['profile'] = df['profile'].astype('category') # no longer used\n",
    "df['codegen-units'] = df['codegen-units'].astype('int') # 1 or 16\n",
    "df['lto'] = df['lto'].astype('category') # off, thin, fat\n",
    "df['nb_run'] = df['nb_run'].astype('int')\n",
    "df['opt-level'] = df['opt-level'].astype('int')  # 2 or 3\n",
    "df['SR25519-Verify'] = df['SR25519-Verify']*1000 # same as in benchmark palette\n",
    "df.head()"
   ]
  },
  {
   "cell_type": "code",
   "execution_count": 3,
   "id": "6aa70bf0-1348-46a0-a298-deb762851ce3",
   "metadata": {},
   "outputs": [
    {
     "data": {
      "text/plain": [
       "0.4"
      ]
     },
     "execution_count": 3,
     "metadata": {},
     "output_type": "execute_result"
    }
   ],
   "source": [
    "# Check for highest CPU percentage (TODO remove outliers if any)\n",
    "max(df.loc[:,\"cpu\"])"
   ]
  },
  {
   "cell_type": "markdown",
   "id": "669cd939-e078-44df-8b0f-a1ed34fd78af",
   "metadata": {},
   "source": [
    "## Boxplot of all scores"
   ]
  },
  {
   "cell_type": "code",
   "execution_count": 4,
   "id": "e150d99e-217a-473a-8d9c-7c27a552e343",
   "metadata": {},
   "outputs": [
    {
     "data": {
      "image/png": "[encoded data removed]",
      "text/plain": [
       "<Figure size 1224x360 with 2 Axes>"
      ]
     },
     "metadata": {
      "needs_background": "light"
     },
     "output_type": "display_data"
    }
   ],
   "source": [
    "fig, ax = plt.subplots(1,2, figsize=(17, 5))\n",
    "fig.suptitle(\"CPU scores for i7-12700\")\n",
    "boxplot_sorted(df, by=\"nb_build\", column=\"BLAKE2-256\", ax=ax[0])\n",
    "ax[0].set_title('BLAKE2-256')\n",
    "ax[0].set_ylabel('GiB/s')\n",
    "boxplot_sorted(df, by=\"nb_build\", column=\"SR25519-Verify\", ax=ax[1])\n",
    "ax[1].set_title('SR25519-Verify')\n",
    "ax[1].set_ylabel('KiB/s')\n",
    "fig.savefig('images/v0.9.27/scores_cpu_i7_12700.svg', bbox_inches='tight')"
   ]
  },
  {
   "cell_type": "markdown",
   "id": "5f382ed8-4752-4197-bac2-1854b50eafcd",
   "metadata": {},
   "source": [
    "We clearly see a few bad builds. Let's label them..."
   ]
  },
  {
   "cell_type": "code",
   "execution_count": 5,
   "id": "4b912940-7872-4950-b154-de56c9305192",
   "metadata": {},
   "outputs": [],
   "source": [
    "bad_builds = [\"30\", \"6\", \"31\", \"7\", \"19\", \"18\", \"43\", \"42\"]"
   ]
  },
  {
   "cell_type": "code",
   "execution_count": 6,
   "id": "d1a973b8-62f8-48a9-900f-ed7c1f7c895e",
   "metadata": {},
   "outputs": [
    {
     "data": {
      "image/png": "[encoded data removed]",
      "text/plain": [
       "<Figure size 1224x360 with 2 Axes>"
      ]
     },
     "metadata": {
      "needs_background": "light"
     },
     "output_type": "display_data"
    }
   ],
   "source": [
    "fig, ax = plt.subplots(1,2, figsize=(17, 5))\n",
    "fig.suptitle(\"Disk scores for i7-12700 with NVMe\")\n",
    "boxplot_sorted(df, by=\"nb_build\", column=\"Seq_Write\", ax=ax[0])\n",
    "ax[0].set_title('Seq Write')\n",
    "ax[0].set_ylabel('MiB/s')\n",
    "boxplot_sorted(df, by=\"nb_build\", column=\"Rnd_Write\", ax=ax[1])\n",
    "ax[1].set_title('Rnd Write')\n",
    "ax[1].set_ylabel('MiB/s')\n",
    "fig.savefig('images/v0.9.27/scores_disk_i7_12700.svg', bbox_inches='tight')"
   ]
  },
  {
   "cell_type": "code",
   "execution_count": 7,
   "id": "25e451e4-e216-496f-a288-9c495ed0c3d2",
   "metadata": {},
   "outputs": [
    {
     "data": {
      "image/png": "[encoded data removed]",
      "text/plain": [
       "<Figure size 540x360 with 1 Axes>"
      ]
     },
     "metadata": {
      "needs_background": "light"
     },
     "output_type": "display_data"
    }
   ],
   "source": [
    "fig, ax = plt.subplots(1, figsize=(7.5, 5))\n",
    "fig.suptitle(\"Memory score for i7-12700\")\n",
    "boxplot_sorted(df, by=\"nb_build\", column=\"Copy\", ax=ax)\n",
    "ax.set_title('Copy')\n",
    "ax.set_ylabel('GiB/s')\n",
    "fig.savefig('images/v0.9.27/scores_mem_i7_12700.svg', bbox_inches='tight')"
   ]
  },
  {
   "cell_type": "markdown",
   "id": "05dd3cab-6527-4dc6-b71a-f3a4e855e13b",
   "metadata": {},
   "source": [
    "**Same conclusions** as for v0.9.26:\n",
    "- Optimization has little impact on disk and memory scores (except for docker)\n",
    "- Docker is still penalized here for copy and rnd write.\n",
    "- Optimizing has a potential big influence on CPU scores.\n",
    "\n",
    "**New information**:\n",
    "- There are 8 builds (30, 6, 31, 7, 19, 18, 43, 42) that have very bad CPU scores."
   ]
  },
  {
   "cell_type": "markdown",
   "id": "9ed9ab28-855d-4857-b05e-508eb96cdfc1",
   "metadata": {},
   "source": [
    "## Table of build options"
   ]
  },
  {
   "cell_type": "code",
   "execution_count": 8,
   "id": "52c607cf-0f85-473f-bce9-0a5676b1b4ea",
   "metadata": {},
   "outputs": [
    {
     "name": "stdout",
     "output_type": "stream",
     "text": [
      "| nb_build   | arch      | toolchain   |   codegen-units | lto        |   opt-level |\n",
      "|:-----------|:----------|:------------|----------------:|:-----------|------------:|\n",
      "| 0          | none      | stable      |               1 | off        |           2 |\n",
      "| 1          | none      | stable      |               1 | off        |           3 |\n",
      "| 10         | none      | stable      |              16 | thin       |           2 |\n",
      "| 11         | none      | stable      |              16 | thin       |           3 |\n",
      "| 12         | alderlake | stable      |               1 | off        |           2 |\n",
      "| 13         | alderlake | stable      |               1 | off        |           3 |\n",
      "| 14         | alderlake | stable      |               1 | fat        |           2 |\n",
      "| 15         | alderlake | stable      |               1 | fat        |           3 |\n",
      "| 16         | alderlake | stable      |               1 | thin       |           2 |\n",
      "| 17         | alderlake | stable      |               1 | thin       |           3 |\n",
      "| 18         | alderlake | stable      |              16 | off        |           2 |\n",
      "| 19         | alderlake | stable      |              16 | off        |           3 |\n",
      "| 2          | none      | stable      |               1 | fat        |           2 |\n",
      "| 20         | alderlake | stable      |              16 | fat        |           2 |\n",
      "| 21         | alderlake | stable      |              16 | fat        |           3 |\n",
      "| 22         | alderlake | stable      |              16 | thin       |           2 |\n",
      "| 23         | alderlake | stable      |              16 | thin       |           3 |\n",
      "| 24         | none      | nightly     |               1 | off        |           2 |\n",
      "| 25         | none      | nightly     |               1 | off        |           3 |\n",
      "| 26         | none      | nightly     |               1 | fat        |           2 |\n",
      "| 27         | none      | nightly     |               1 | fat        |           3 |\n",
      "| 28         | none      | nightly     |               1 | thin       |           2 |\n",
      "| 29         | none      | nightly     |               1 | thin       |           3 |\n",
      "| 3          | none      | stable      |               1 | fat        |           3 |\n",
      "| 30         | none      | nightly     |              16 | off        |           2 |\n",
      "| 31         | none      | nightly     |              16 | off        |           3 |\n",
      "| 32         | none      | nightly     |              16 | fat        |           2 |\n",
      "| 33         | none      | nightly     |              16 | fat        |           3 |\n",
      "| 34         | none      | nightly     |              16 | thin       |           2 |\n",
      "| 35         | none      | nightly     |              16 | thin       |           3 |\n",
      "| 36         | alderlake | nightly     |               1 | off        |           2 |\n",
      "| 37         | alderlake | nightly     |               1 | off        |           3 |\n",
      "| 38         | alderlake | nightly     |               1 | fat        |           2 |\n",
      "| 39         | alderlake | nightly     |               1 | fat        |           3 |\n",
      "| 4          | none      | stable      |               1 | thin       |           2 |\n",
      "| 40         | alderlake | nightly     |               1 | thin       |           2 |\n",
      "| 41         | alderlake | nightly     |               1 | thin       |           3 |\n",
      "| 42         | alderlake | nightly     |              16 | off        |           2 |\n",
      "| 43         | alderlake | nightly     |              16 | off        |           3 |\n",
      "| 44         | alderlake | nightly     |              16 | fat        |           2 |\n",
      "| 45         | alderlake | nightly     |              16 | fat        |           3 |\n",
      "| 46         | alderlake | nightly     |              16 | thin       |           2 |\n",
      "| 47         | alderlake | nightly     |              16 | thin       |           3 |\n",
      "| 5          | none      | stable      |               1 | thin       |           3 |\n",
      "| 6          | none      | stable      |              16 | off        |           2 |\n",
      "| 7          | none      | stable      |              16 | off        |           3 |\n",
      "| 8          | none      | stable      |              16 | fat        |           2 |\n",
      "| 9          | none      | stable      |              16 | fat        |           3 |\n",
      "| docker     | none      | nightly     |              16 | thin local |           3 |\n"
     ]
    }
   ],
   "source": [
    "cat_cols = ['nb_build', 'arch', 'toolchain', 'codegen-units', 'lto', 'opt-level']\n",
    "build_table = df[cat_cols].set_index('nb_build').sort_index().drop_duplicates()\n",
    "print( build_table.to_markdown() )"
   ]
  },
  {
   "cell_type": "markdown",
   "id": "505dc84a-a829-44e0-af2d-ce71790675b7",
   "metadata": {},
   "source": [
    "**What are the optimization options of the bad builds?**"
   ]
  },
  {
   "cell_type": "code",
   "execution_count": 9,
   "id": "cae5c404-f59d-4fdc-a1a8-8dc9e99bb242",
   "metadata": {},
   "outputs": [
    {
     "data": {
      "text/html": [
       "<div>\n",
       "<style scoped>\n",
       "    .dataframe tbody tr th:only-of-type {\n",
       "        vertical-align: middle;\n",
       "    }\n",
       "\n",
       "    .dataframe tbody tr th {\n",
       "        vertical-align: top;\n",
       "    }\n",
       "\n",
       "    .dataframe thead th {\n",
       "        text-align: right;\n",
       "    }\n",
       "</style>\n",
       "<table border=\"1\" class=\"dataframe\">\n",
       "  <thead>\n",
       "    <tr style=\"text-align: right;\">\n",
       "      <th></th>\n",
       "      <th>arch</th>\n",
       "      <th>toolchain</th>\n",
       "      <th>codegen-units</th>\n",
       "      <th>lto</th>\n",
       "      <th>opt-level</th>\n",
       "    </tr>\n",
       "    <tr>\n",
       "      <th>nb_build</th>\n",
       "      <th></th>\n",
       "      <th></th>\n",
       "      <th></th>\n",
       "      <th></th>\n",
       "      <th></th>\n",
       "    </tr>\n",
       "  </thead>\n",
       "  <tbody>\n",
       "    <tr>\n",
       "      <th>18</th>\n",
       "      <td>alderlake</td>\n",
       "      <td>stable</td>\n",
       "      <td>16</td>\n",
       "      <td>off</td>\n",
       "      <td>2</td>\n",
       "    </tr>\n",
       "    <tr>\n",
       "      <th>19</th>\n",
       "      <td>alderlake</td>\n",
       "      <td>stable</td>\n",
       "      <td>16</td>\n",
       "      <td>off</td>\n",
       "      <td>3</td>\n",
       "    </tr>\n",
       "    <tr>\n",
       "      <th>30</th>\n",
       "      <td>none</td>\n",
       "      <td>nightly</td>\n",
       "      <td>16</td>\n",
       "      <td>off</td>\n",
       "      <td>2</td>\n",
       "    </tr>\n",
       "    <tr>\n",
       "      <th>31</th>\n",
       "      <td>none</td>\n",
       "      <td>nightly</td>\n",
       "      <td>16</td>\n",
       "      <td>off</td>\n",
       "      <td>3</td>\n",
       "    </tr>\n",
       "    <tr>\n",
       "      <th>42</th>\n",
       "      <td>alderlake</td>\n",
       "      <td>nightly</td>\n",
       "      <td>16</td>\n",
       "      <td>off</td>\n",
       "      <td>2</td>\n",
       "    </tr>\n",
       "    <tr>\n",
       "      <th>43</th>\n",
       "      <td>alderlake</td>\n",
       "      <td>nightly</td>\n",
       "      <td>16</td>\n",
       "      <td>off</td>\n",
       "      <td>3</td>\n",
       "    </tr>\n",
       "    <tr>\n",
       "      <th>6</th>\n",
       "      <td>none</td>\n",
       "      <td>stable</td>\n",
       "      <td>16</td>\n",
       "      <td>off</td>\n",
       "      <td>2</td>\n",
       "    </tr>\n",
       "    <tr>\n",
       "      <th>7</th>\n",
       "      <td>none</td>\n",
       "      <td>stable</td>\n",
       "      <td>16</td>\n",
       "      <td>off</td>\n",
       "      <td>3</td>\n",
       "    </tr>\n",
       "  </tbody>\n",
       "</table>\n",
       "</div>"
      ],
      "text/plain": [
       "               arch toolchain  codegen-units  lto  opt-level\n",
       "nb_build                                                    \n",
       "18        alderlake    stable             16  off          2\n",
       "19        alderlake    stable             16  off          3\n",
       "30             none   nightly             16  off          2\n",
       "31             none   nightly             16  off          3\n",
       "42        alderlake   nightly             16  off          2\n",
       "43        alderlake   nightly             16  off          3\n",
       "6              none    stable             16  off          2\n",
       "7              none    stable             16  off          3"
      ]
     },
     "execution_count": 9,
     "metadata": {},
     "output_type": "execute_result"
    }
   ],
   "source": [
    "build_table[build_table.index.isin(bad_builds)]"
   ]
  },
  {
   "cell_type": "markdown",
   "id": "07d4712c-7ef6-4e10-b0e0-ddf7bf42d143",
   "metadata": {},
   "source": [
    "Maybe surprisingly, it is not simply ``opt-level = 2``. It seems that ``codegen-units=16`` and ``lto=off`` is the reason, regardless of ``opt-level``."
   ]
  },
  {
   "cell_type": "markdown",
   "id": "7ba27b99-12b5-4df3-8ca5-9034653ee53a",
   "metadata": {},
   "source": [
    "## Find winning build options (close to Pareto efficient)."
   ]
  },
  {
   "cell_type": "markdown",
   "id": "4d593751-fdfd-49f5-b73b-94cb43903799",
   "metadata": {},
   "source": [
    "Like before, we only look at CPU scores. Since it will be usefull later, we enrich the data set with the statistical errors of the mean and the mean. For simplicity, we assume normality (although not that correct here). In that case, the error the median is 1.25 x error on the mean."
   ]
  },
  {
   "cell_type": "code",
   "execution_count": 10,
   "id": "e7cf833f-ebc3-46cf-9318-f3cd56c5149d",
   "metadata": {},
   "outputs": [
    {
     "data": {
      "text/html": [
       "<div>\n",
       "<style scoped>\n",
       "    .dataframe tbody tr th:only-of-type {\n",
       "        vertical-align: middle;\n",
       "    }\n",
       "\n",
       "    .dataframe tbody tr th {\n",
       "        vertical-align: top;\n",
       "    }\n",
       "\n",
       "    .dataframe thead th {\n",
       "        text-align: right;\n",
       "    }\n",
       "</style>\n",
       "<table border=\"1\" class=\"dataframe\">\n",
       "  <thead>\n",
       "    <tr style=\"text-align: right;\">\n",
       "      <th></th>\n",
       "      <th>BLAKE2-256</th>\n",
       "      <th>Δ-BLAKE2-256</th>\n",
       "      <th>SR25519-Verify</th>\n",
       "      <th>Δ-SR25519-Verify</th>\n",
       "    </tr>\n",
       "    <tr>\n",
       "      <th>nb_build</th>\n",
       "      <th></th>\n",
       "      <th></th>\n",
       "      <th></th>\n",
       "      <th></th>\n",
       "    </tr>\n",
       "  </thead>\n",
       "  <tbody>\n",
       "    <tr>\n",
       "      <th>0</th>\n",
       "      <td>1330.0</td>\n",
       "      <td>2.4</td>\n",
       "      <td>986.9</td>\n",
       "      <td>0.2</td>\n",
       "    </tr>\n",
       "    <tr>\n",
       "      <th>1</th>\n",
       "      <td>1340.0</td>\n",
       "      <td>3.8</td>\n",
       "      <td>997.5</td>\n",
       "      <td>0.6</td>\n",
       "    </tr>\n",
       "    <tr>\n",
       "      <th>10</th>\n",
       "      <td>1350.0</td>\n",
       "      <td>2.0</td>\n",
       "      <td>981.8</td>\n",
       "      <td>3.0</td>\n",
       "    </tr>\n",
       "    <tr>\n",
       "      <th>11</th>\n",
       "      <td>1340.0</td>\n",
       "      <td>3.0</td>\n",
       "      <td>974.4</td>\n",
       "      <td>1.7</td>\n",
       "    </tr>\n",
       "    <tr>\n",
       "      <th>12</th>\n",
       "      <td>1410.0</td>\n",
       "      <td>1.7</td>\n",
       "      <td>1010.0</td>\n",
       "      <td>1.2</td>\n",
       "    </tr>\n",
       "  </tbody>\n",
       "</table>\n",
       "</div>"
      ],
      "text/plain": [
       "          BLAKE2-256  Δ-BLAKE2-256  SR25519-Verify  Δ-SR25519-Verify\n",
       "nb_build                                                            \n",
       "0             1330.0           2.4           986.9               0.2\n",
       "1             1340.0           3.8           997.5               0.6\n",
       "10            1350.0           2.0           981.8               3.0\n",
       "11            1340.0           3.0           974.4               1.7\n",
       "12            1410.0           1.7          1010.0               1.2"
      ]
     },
     "execution_count": 10,
     "metadata": {},
     "output_type": "execute_result"
    }
   ],
   "source": [
    "def calc_stats(df, score):\n",
    "    stats = df[[\"nb_build\", score]].groupby(\"nb_build\")[score].agg(['median', 'mean', 'sem'])\n",
    "    stats['± mean'] = 1.96 * stats['sem'] # 95% CI\n",
    "    stats['± median'] = 1.25 * stats['± mean'] \n",
    "    sum_stats = stats[[\"median\", \"± median\"]]\n",
    "    sum_stats = sum_stats.rename(columns={\"median\": score, \"± median\": \"Δ-\" + score})\n",
    "    return sum_stats\n",
    "\n",
    "stats1 = calc_stats(df, \"BLAKE2-256\")\n",
    "stats2 = calc_stats(df, \"SR25519-Verify\")\n",
    "medians = pd.concat([stats1, stats2], axis=1)\n",
    "medians.round(1).head()"
   ]
  },
  {
   "cell_type": "markdown",
   "id": "45c3def7-76b1-46a1-a189-59d67540c033",
   "metadata": {},
   "source": [
    "These estimates of the statistical errors (given in the Δ column) are again very small. We can thus probably halve the number of samples ``NB_RUNS`` in our future benchmarking. Less waiting around!"
   ]
  },
  {
   "cell_type": "markdown",
   "id": "9edf163f-ef97-4434-9a47-a48c21b0611a",
   "metadata": {},
   "source": [
    "For the rest, we now discared the bad builds."
   ]
  },
  {
   "cell_type": "code",
   "execution_count": 11,
   "id": "0f2ad4c8-e48c-4cc5-bcd7-389ece76ad0b",
   "metadata": {},
   "outputs": [
    {
     "data": {
      "text/html": [
       "<div>\n",
       "<style scoped>\n",
       "    .dataframe tbody tr th:only-of-type {\n",
       "        vertical-align: middle;\n",
       "    }\n",
       "\n",
       "    .dataframe tbody tr th {\n",
       "        vertical-align: top;\n",
       "    }\n",
       "\n",
       "    .dataframe thead th {\n",
       "        text-align: right;\n",
       "    }\n",
       "</style>\n",
       "<table border=\"1\" class=\"dataframe\">\n",
       "  <thead>\n",
       "    <tr style=\"text-align: right;\">\n",
       "      <th></th>\n",
       "      <th>BLAKE2-256</th>\n",
       "      <th>Δ-BLAKE2-256</th>\n",
       "      <th>SR25519-Verify</th>\n",
       "      <th>Δ-SR25519-Verify</th>\n",
       "    </tr>\n",
       "    <tr>\n",
       "      <th>nb_build</th>\n",
       "      <th></th>\n",
       "      <th></th>\n",
       "      <th></th>\n",
       "      <th></th>\n",
       "    </tr>\n",
       "  </thead>\n",
       "  <tbody>\n",
       "    <tr>\n",
       "      <th>0</th>\n",
       "      <td>1330.0</td>\n",
       "      <td>2.433828</td>\n",
       "      <td>986.915</td>\n",
       "      <td>0.216257</td>\n",
       "    </tr>\n",
       "    <tr>\n",
       "      <th>1</th>\n",
       "      <td>1340.0</td>\n",
       "      <td>3.812134</td>\n",
       "      <td>997.515</td>\n",
       "      <td>0.625294</td>\n",
       "    </tr>\n",
       "    <tr>\n",
       "      <th>10</th>\n",
       "      <td>1350.0</td>\n",
       "      <td>2.006986</td>\n",
       "      <td>981.775</td>\n",
       "      <td>2.985905</td>\n",
       "    </tr>\n",
       "    <tr>\n",
       "      <th>11</th>\n",
       "      <td>1340.0</td>\n",
       "      <td>3.013757</td>\n",
       "      <td>974.410</td>\n",
       "      <td>1.716181</td>\n",
       "    </tr>\n",
       "    <tr>\n",
       "      <th>12</th>\n",
       "      <td>1410.0</td>\n",
       "      <td>1.686206</td>\n",
       "      <td>1010.000</td>\n",
       "      <td>1.225000</td>\n",
       "    </tr>\n",
       "  </tbody>\n",
       "</table>\n",
       "</div>"
      ],
      "text/plain": [
       "          BLAKE2-256  Δ-BLAKE2-256  SR25519-Verify  Δ-SR25519-Verify\n",
       "nb_build                                                            \n",
       "0             1330.0      2.433828         986.915          0.216257\n",
       "1             1340.0      3.812134         997.515          0.625294\n",
       "10            1350.0      2.006986         981.775          2.985905\n",
       "11            1340.0      3.013757         974.410          1.716181\n",
       "12            1410.0      1.686206        1010.000          1.225000"
      ]
     },
     "execution_count": 11,
     "metadata": {},
     "output_type": "execute_result"
    }
   ],
   "source": [
    "medians = medians.loc[~medians.index.isin(bad_builds)]\n",
    "medians.head()"
   ]
  },
  {
   "cell_type": "code",
   "execution_count": 12,
   "id": "34fd7faf-5738-4723-87e3-e5ee8da3fca6",
   "metadata": {},
   "outputs": [
    {
     "data": {
      "image/png": "[encoded data removed]",
      "text/plain": [
       "<Figure size 540x360 with 1 Axes>"
      ]
     },
     "metadata": {
      "needs_background": "light"
     },
     "output_type": "display_data"
    }
   ],
   "source": [
    "fig = labelled_scatter_plot(medians, \"BLAKE2-256\", \"SR25519-Verify\", [\"official\", \"docker\"])"
   ]
  },
  {
   "cell_type": "markdown",
   "id": "a3ef7467-2959-4b84-bb8b-f197c17f08a6",
   "metadata": {},
   "source": [
    "This scatter plot looks similar to the one from v0.9.26. However, this time let us **find the (almost) Pareto efficient points in a more automatic way**. \n",
    "\n",
    "First, we find the **exact Pareto points** with the nice package ``paretoset``."
   ]
  },
  {
   "cell_type": "code",
   "execution_count": 13,
   "id": "6b484172-3ecc-4e2e-8138-c8acb5f1e0c7",
   "metadata": {},
   "outputs": [],
   "source": [
    "from paretoset import paretoset"
   ]
  },
  {
   "cell_type": "code",
   "execution_count": 14,
   "id": "43ae96f6-ce4b-4553-9d83-4a9d645c76c2",
   "metadata": {},
   "outputs": [
    {
     "data": {
      "text/html": [
       "<div>\n",
       "<style scoped>\n",
       "    .dataframe tbody tr th:only-of-type {\n",
       "        vertical-align: middle;\n",
       "    }\n",
       "\n",
       "    .dataframe tbody tr th {\n",
       "        vertical-align: top;\n",
       "    }\n",
       "\n",
       "    .dataframe thead th {\n",
       "        text-align: right;\n",
       "    }\n",
       "</style>\n",
       "<table border=\"1\" class=\"dataframe\">\n",
       "  <thead>\n",
       "    <tr style=\"text-align: right;\">\n",
       "      <th></th>\n",
       "      <th>BLAKE2-256</th>\n",
       "      <th>SR25519-Verify</th>\n",
       "    </tr>\n",
       "    <tr>\n",
       "      <th>nb_build</th>\n",
       "      <th></th>\n",
       "      <th></th>\n",
       "    </tr>\n",
       "  </thead>\n",
       "  <tbody>\n",
       "    <tr>\n",
       "      <th>41</th>\n",
       "      <td>1410.0</td>\n",
       "      <td>1016.26</td>\n",
       "    </tr>\n",
       "    <tr>\n",
       "      <th>45</th>\n",
       "      <td>1400.0</td>\n",
       "      <td>1022.94</td>\n",
       "    </tr>\n",
       "    <tr>\n",
       "      <th>47</th>\n",
       "      <td>1420.0</td>\n",
       "      <td>987.42</td>\n",
       "    </tr>\n",
       "  </tbody>\n",
       "</table>\n",
       "</div>"
      ],
      "text/plain": [
       "          BLAKE2-256  SR25519-Verify\n",
       "nb_build                            \n",
       "41            1410.0         1016.26\n",
       "45            1400.0         1022.94\n",
       "47            1420.0          987.42"
      ]
     },
     "execution_count": 14,
     "metadata": {},
     "output_type": "execute_result"
    }
   ],
   "source": [
    "df_xy = medians[[\"BLAKE2-256\",\"SR25519-Verify\"]]\n",
    "mask = paretoset(df_xy, sense=[\"max\", \"max\"])\n",
    "df_xy_pareto = df_xy[mask]\n",
    "pareto = df_xy_pareto.index.to_numpy()\n",
    "df_xy_pareto"
   ]
  },
  {
   "cell_type": "markdown",
   "id": "5849bcd0-e098-4856-a665-fdd05a9e50f2",
   "metadata": {},
   "source": [
    "Next, we find all builds that are **close to these Pareto efficient** ones. For that we define a box around each median with width equal to its statistical error. We then calculate the distance between all boxes."
   ]
  },
  {
   "cell_type": "code",
   "execution_count": 15,
   "id": "a5026947-24bc-4d67-9c80-7d4397345102",
   "metadata": {},
   "outputs": [],
   "source": [
    "# https://stackoverflow.com/questions/65107289/minimum-distance-between-two-axis-aligned-boxes-in-n-dimensions\n",
    "def boxes_distance(A_min, A_max, B_min, B_max):\n",
    "    delta1 = A_min - B_max\n",
    "    delta2 = B_min - A_max\n",
    "    u = np.max(np.array([np.zeros(len(delta1)), delta1]), axis=0)\n",
    "    v = np.max(np.array([np.zeros(len(delta2)), delta2]), axis=0)\n",
    "    dist = np.linalg.norm(np.concatenate([u, v]))\n",
    "    return dist"
   ]
  },
  {
   "cell_type": "code",
   "execution_count": 16,
   "id": "b1898637-168b-4172-be9d-b24b151b04a2",
   "metadata": {},
   "outputs": [
    {
     "name": "stdout",
     "output_type": "stream",
     "text": [
      "['41' '45' '47']\n",
      "['41', '14', '15', '21', '38', '39', '45', '47']\n"
     ]
    }
   ],
   "source": [
    "x = \"BLAKE2-256\"\n",
    "y = \"SR25519-Verify\"\n",
    "dx = \"Δ-BLAKE2-256\"\n",
    "dy = \"Δ-SR25519-Verify\"\n",
    "\n",
    "pareto_ext = []\n",
    "nudge = 1 # if not enough extra builds, increase this\n",
    "for bA in pareto:\n",
    "    A_min = np.array([medians.loc[bA][x] - nudge*medians.loc[bA][dx], medians.loc[bA][y] - nudge*medians.loc[bA][dy]])\n",
    "    A_max = np.array([medians.loc[bA][x] + nudge*medians.loc[bA][dx], medians.loc[bA][y] + nudge*medians.loc[bA][dy]])\n",
    "\n",
    "    dists_AB = {}\n",
    "    for bB in medians.index:\n",
    "        B_min = np.array([medians.loc[bB][x] - nudge*medians.loc[bB][dx], medians.loc[bB][y] - nudge*medians.loc[bB][dy]])\n",
    "        B_max = np.array([medians.loc[bB][x] + nudge*medians.loc[bB][dx], medians.loc[bB][y] + nudge*medians.loc[bB][dy]])\n",
    "        dAB = boxes_distance(A_min, A_max, B_min, B_max)\n",
    "        if dAB < 1e-1:\n",
    "            pareto_ext.append(bB) \n",
    "print(pareto)        \n",
    "print(pareto_ext)"
   ]
  },
  {
   "cell_type": "code",
   "execution_count": 17,
   "id": "909ffbf1-755e-4c69-9aa5-3d0f40582a8f",
   "metadata": {},
   "outputs": [],
   "source": [
    "# The extended set looks good. We take it as the new set.\n",
    "pareto = pareto_ext\n",
    "df_sel = df[df[\"nb_build\"].isin(pareto)]"
   ]
  },
  {
   "cell_type": "code",
   "execution_count": 18,
   "id": "a25b79f7-2ce3-4da3-9803-f24b685ce625",
   "metadata": {},
   "outputs": [
    {
     "data": {
      "image/png": "[encoded data removed]",
      "text/plain": [
       "<Figure size 540x360 with 1 Axes>"
      ]
     },
     "metadata": {
      "needs_background": "light"
     },
     "output_type": "display_data"
    }
   ],
   "source": [
    "fig = labelled_scatter_plot(medians, \"BLAKE2-256\", \"SR25519-Verify\", [\"official\", \"docker\"] + pareto)\n",
    "fig.savefig('images/v0.9.27/scatter_cpu_i7_12700.svg', bbox_inches='tight')"
   ]
  },
  {
   "cell_type": "markdown",
   "id": "d3b7f21a-5947-443e-abea-aea43b514102",
   "metadata": {},
   "source": [
    "**We see many builds close to 45 (even 15 is there). Build 47 is of course alone, but so is build 41 (which is a bit suprising).**\n",
    "\n",
    "In the box plot below, we see why: build 45 has quite high variance. So does build 15. However, build 41 is quite concentrated."
   ]
  },
  {
   "cell_type": "code",
   "execution_count": 19,
   "id": "680d23ad-0bd1-4c88-b391-7dfed5dcd1f5",
   "metadata": {},
   "outputs": [
    {
     "data": {
      "image/png": "[encoded data removed]",
      "text/plain": [
       "<Figure size 1224x360 with 2 Axes>"
      ]
     },
     "metadata": {
      "needs_background": "light"
     },
     "output_type": "display_data"
    }
   ],
   "source": [
    "fig, ax = plt.subplots(1,2, figsize=(17, 5))\n",
    "fig.suptitle(\"CPU scores for i7-12700\")\n",
    "boxplot_sorted(df_sel, by=\"nb_build\", column=\"BLAKE2-256\", ax=ax[0])\n",
    "ax[0].set_title('BLAKE2-256')\n",
    "ax[0].set_ylabel('GiB/s')\n",
    "boxplot_sorted(df_sel, by=\"nb_build\", column=\"SR25519-Verify\", ax=ax[1])\n",
    "ax[1].set_title('SR25519-Verify')\n",
    "ax[1].set_ylabel('KiB/s')\n",
    "fig.savefig('images/v0.9.27/pareto_scores_cpu_i7_12700.svg', bbox_inches='tight')"
   ]
  },
  {
   "cell_type": "markdown",
   "id": "aa8ab50a-41fa-4be6-8d24-0050776b5efd",
   "metadata": {},
   "source": [
    "**What are the winning builds?** "
   ]
  },
  {
   "cell_type": "code",
   "execution_count": 20,
   "id": "53891e8b-9036-4e54-8b17-c5072a72ddaa",
   "metadata": {},
   "outputs": [
    {
     "data": {
      "text/html": [
       "<div>\n",
       "<style scoped>\n",
       "    .dataframe tbody tr th:only-of-type {\n",
       "        vertical-align: middle;\n",
       "    }\n",
       "\n",
       "    .dataframe tbody tr th {\n",
       "        vertical-align: top;\n",
       "    }\n",
       "\n",
       "    .dataframe thead th {\n",
       "        text-align: right;\n",
       "    }\n",
       "</style>\n",
       "<table border=\"1\" class=\"dataframe\">\n",
       "  <thead>\n",
       "    <tr style=\"text-align: right;\">\n",
       "      <th></th>\n",
       "      <th>arch</th>\n",
       "      <th>toolchain</th>\n",
       "      <th>codegen-units</th>\n",
       "      <th>lto</th>\n",
       "      <th>opt-level</th>\n",
       "    </tr>\n",
       "    <tr>\n",
       "      <th>nb_build</th>\n",
       "      <th></th>\n",
       "      <th></th>\n",
       "      <th></th>\n",
       "      <th></th>\n",
       "      <th></th>\n",
       "    </tr>\n",
       "  </thead>\n",
       "  <tbody>\n",
       "    <tr>\n",
       "      <th>14</th>\n",
       "      <td>alderlake</td>\n",
       "      <td>stable</td>\n",
       "      <td>1</td>\n",
       "      <td>fat</td>\n",
       "      <td>2</td>\n",
       "    </tr>\n",
       "    <tr>\n",
       "      <th>15</th>\n",
       "      <td>alderlake</td>\n",
       "      <td>stable</td>\n",
       "      <td>1</td>\n",
       "      <td>fat</td>\n",
       "      <td>3</td>\n",
       "    </tr>\n",
       "    <tr>\n",
       "      <th>21</th>\n",
       "      <td>alderlake</td>\n",
       "      <td>stable</td>\n",
       "      <td>16</td>\n",
       "      <td>fat</td>\n",
       "      <td>3</td>\n",
       "    </tr>\n",
       "    <tr>\n",
       "      <th>38</th>\n",
       "      <td>alderlake</td>\n",
       "      <td>nightly</td>\n",
       "      <td>1</td>\n",
       "      <td>fat</td>\n",
       "      <td>2</td>\n",
       "    </tr>\n",
       "    <tr>\n",
       "      <th>39</th>\n",
       "      <td>alderlake</td>\n",
       "      <td>nightly</td>\n",
       "      <td>1</td>\n",
       "      <td>fat</td>\n",
       "      <td>3</td>\n",
       "    </tr>\n",
       "    <tr>\n",
       "      <th>41</th>\n",
       "      <td>alderlake</td>\n",
       "      <td>nightly</td>\n",
       "      <td>1</td>\n",
       "      <td>thin</td>\n",
       "      <td>3</td>\n",
       "    </tr>\n",
       "    <tr>\n",
       "      <th>45</th>\n",
       "      <td>alderlake</td>\n",
       "      <td>nightly</td>\n",
       "      <td>16</td>\n",
       "      <td>fat</td>\n",
       "      <td>3</td>\n",
       "    </tr>\n",
       "    <tr>\n",
       "      <th>47</th>\n",
       "      <td>alderlake</td>\n",
       "      <td>nightly</td>\n",
       "      <td>16</td>\n",
       "      <td>thin</td>\n",
       "      <td>3</td>\n",
       "    </tr>\n",
       "  </tbody>\n",
       "</table>\n",
       "</div>"
      ],
      "text/plain": [
       "               arch toolchain  codegen-units   lto  opt-level\n",
       "nb_build                                                     \n",
       "14        alderlake    stable              1   fat          2\n",
       "15        alderlake    stable              1   fat          3\n",
       "21        alderlake    stable             16   fat          3\n",
       "38        alderlake   nightly              1   fat          2\n",
       "39        alderlake   nightly              1   fat          3\n",
       "41        alderlake   nightly              1  thin          3\n",
       "45        alderlake   nightly             16   fat          3\n",
       "47        alderlake   nightly             16  thin          3"
      ]
     },
     "execution_count": 20,
     "metadata": {},
     "output_type": "execute_result"
    }
   ],
   "source": [
    "build_table[build_table.index.isin(pareto)]"
   ]
  },
  {
   "cell_type": "markdown",
   "id": "e7621bcb-6490-4a88-965d-a48991035eb4",
   "metadata": {},
   "source": [
    "- Surprisingly, ``opt-level=3`` is not always needed. However, some ``lto`` is required.\n",
    "- In fact, builds 14 and 38 (``opt-level=2``) have excellent SR25519-Verify scores with zero variance.\n",
    "- Build 47 is not ideal: it has best scores for BLAKE2-256 but worst for SR25519-Verify. (As shown below, it is even worse then the offical polkadot binary!)\n",
    "- Build 45 is best for SR25519-Verify and third best for BLAKE2-256. Except for its high variance, build 45 would be a clear winner. It uses ``codegen-units=16``, which is a little surprising.\n",
    "- Builds 38, 39 and 41 are good mixes between both scores.\n",
    "\n",
    "For now, **we take builds 38, 39, 41 and 45 as our winning builds**. It will be interesting to see how it compares on different archs and with the extrinsic timing."
   ]
  },
  {
   "cell_type": "markdown",
   "id": "521331ff-0e4e-45da-884d-d44fd8c465fc",
   "metadata": {},
   "source": [
    "## Summary table of winning builds\n",
    "\n",
    "Table for the overview page of our website."
   ]
  },
  {
   "cell_type": "code",
   "execution_count": 21,
   "id": "e1ed9a61-d507-45cc-8d5c-cb6f94235af3",
   "metadata": {
    "tags": []
   },
   "outputs": [],
   "source": [
    "# Summary stats with ± mean based on 95% CI\n",
    "def statistics_table(df, score):\n",
    "    stats = df.groupby(\"nb_build\")[score].agg(['median', 'mean', 'sem'])\n",
    "    # stats['ci95_lo'] = stats['mean'] - 1.96* stats['sem']\n",
    "    # stats['ci95_hi'] = stats['mean'] + 1.96* stats['sem']\n",
    "    median_official = stats['median']['official']\n",
    "    stats['impr med off'] = (stats['median'] - median_official)\n",
    "    stats['impr med off pct'] = stats['impr med off']/median_official*100\n",
    "    return stats"
   ]
  },
  {
   "cell_type": "code",
   "execution_count": 22,
   "id": "03b2849c-7d57-4759-8360-8fc115ac6c49",
   "metadata": {},
   "outputs": [],
   "source": [
    "stats_score1 = statistics_table(df, 'BLAKE2-256')\n",
    "stats_score2 = statistics_table(df, 'SR25519-Verify')"
   ]
  },
  {
   "cell_type": "code",
   "execution_count": 23,
   "id": "504ca460-8fc2-4cc2-818a-229fa941a563",
   "metadata": {},
   "outputs": [
    {
     "name": "stdout",
     "output_type": "stream",
     "text": [
      "| nb_build   |   BLAKE2-256 |   relative diff (%) |   SR25519-Verify |   relative diff (%) |\n",
      "|:-----------|-------------:|--------------------:|-----------------:|--------------------:|\n",
      "| 38         |         1400 |                 4.5 |           1020   |                 1.9 |\n",
      "| 39         |         1400 |                 4.5 |           1019.7 |                 1.8 |\n",
      "| 41         |         1410 |                 5.2 |           1016.3 |                 1.5 |\n",
      "| 45         |         1400 |                 4.5 |           1022.9 |                 2.1 |\n",
      "| official   |         1340 |                 0   |           1001.4 |                 0   |\n",
      "| docker     |         1340 |                 0   |           1002.6 |                 0.1 |\n"
     ]
    },
    {
     "data": {
      "text/html": [
       "<div>\n",
       "<style scoped>\n",
       "    .dataframe tbody tr th:only-of-type {\n",
       "        vertical-align: middle;\n",
       "    }\n",
       "\n",
       "    .dataframe tbody tr th {\n",
       "        vertical-align: top;\n",
       "    }\n",
       "\n",
       "    .dataframe thead th {\n",
       "        text-align: right;\n",
       "    }\n",
       "</style>\n",
       "<table border=\"1\" class=\"dataframe\">\n",
       "  <thead>\n",
       "    <tr style=\"text-align: right;\">\n",
       "      <th></th>\n",
       "      <th>BLAKE2-256</th>\n",
       "      <th>relative diff (%)</th>\n",
       "      <th>SR25519-Verify</th>\n",
       "      <th>relative diff (%)</th>\n",
       "    </tr>\n",
       "    <tr>\n",
       "      <th>nb_build</th>\n",
       "      <th></th>\n",
       "      <th></th>\n",
       "      <th></th>\n",
       "      <th></th>\n",
       "    </tr>\n",
       "  </thead>\n",
       "  <tbody>\n",
       "    <tr>\n",
       "      <th>38</th>\n",
       "      <td>1400.0</td>\n",
       "      <td>4.5</td>\n",
       "      <td>1020.0</td>\n",
       "      <td>1.9</td>\n",
       "    </tr>\n",
       "    <tr>\n",
       "      <th>39</th>\n",
       "      <td>1400.0</td>\n",
       "      <td>4.5</td>\n",
       "      <td>1019.7</td>\n",
       "      <td>1.8</td>\n",
       "    </tr>\n",
       "    <tr>\n",
       "      <th>41</th>\n",
       "      <td>1410.0</td>\n",
       "      <td>5.2</td>\n",
       "      <td>1016.3</td>\n",
       "      <td>1.5</td>\n",
       "    </tr>\n",
       "    <tr>\n",
       "      <th>45</th>\n",
       "      <td>1400.0</td>\n",
       "      <td>4.5</td>\n",
       "      <td>1022.9</td>\n",
       "      <td>2.1</td>\n",
       "    </tr>\n",
       "    <tr>\n",
       "      <th>official</th>\n",
       "      <td>1340.0</td>\n",
       "      <td>0.0</td>\n",
       "      <td>1001.4</td>\n",
       "      <td>0.0</td>\n",
       "    </tr>\n",
       "    <tr>\n",
       "      <th>docker</th>\n",
       "      <td>1340.0</td>\n",
       "      <td>0.0</td>\n",
       "      <td>1002.6</td>\n",
       "      <td>0.1</td>\n",
       "    </tr>\n",
       "  </tbody>\n",
       "</table>\n",
       "</div>"
      ],
      "text/plain": [
       "          BLAKE2-256  relative diff (%)  SR25519-Verify  relative diff (%)\n",
       "nb_build                                                                  \n",
       "38            1400.0                4.5          1020.0                1.9\n",
       "39            1400.0                4.5          1019.7                1.8\n",
       "41            1410.0                5.2          1016.3                1.5\n",
       "45            1400.0                4.5          1022.9                2.1\n",
       "official      1340.0                0.0          1001.4                0.0\n",
       "docker        1340.0                0.0          1002.6                0.1"
      ]
     },
     "execution_count": 23,
     "metadata": {},
     "output_type": "execute_result"
    }
   ],
   "source": [
    "good_builds = ['38', '39', '41', '45'] \n",
    "stats1 = stats_score1.loc[good_builds + ['official', 'docker'], ['median', 'impr med off pct']]\n",
    "stats1 = stats1.rename(columns={\"median\": \"BLAKE2-256\", \"impr med off pct\": \"relative diff (%)\"})\n",
    "stats2 = stats_score2.loc[good_builds + ['official', 'docker'], ['median', 'impr med off pct']]\n",
    "stats2 = stats2.rename(columns={\"median\": \"SR25519-Verify\", \"impr med off pct\": \"relative diff (%)\"})\n",
    "sum_stats_build = pd.concat([stats1, stats2], axis=1).round(1)\n",
    "print( sum_stats_build.to_markdown() )\n",
    "sum_stats_build"
   ]
  },
  {
   "cell_type": "code",
   "execution_count": 24,
   "id": "367cd7b0-774d-47bb-9995-fa8d034f7057",
   "metadata": {},
   "outputs": [
    {
     "data": {
      "text/html": [
       "<div>\n",
       "<style scoped>\n",
       "    .dataframe tbody tr th:only-of-type {\n",
       "        vertical-align: middle;\n",
       "    }\n",
       "\n",
       "    .dataframe tbody tr th {\n",
       "        vertical-align: top;\n",
       "    }\n",
       "\n",
       "    .dataframe thead th {\n",
       "        text-align: right;\n",
       "    }\n",
       "</style>\n",
       "<table border=\"1\" class=\"dataframe\">\n",
       "  <thead>\n",
       "    <tr style=\"text-align: right;\">\n",
       "      <th></th>\n",
       "      <th>arch</th>\n",
       "      <th>toolchain</th>\n",
       "      <th>codegen-units</th>\n",
       "      <th>lto</th>\n",
       "      <th>opt-level</th>\n",
       "    </tr>\n",
       "    <tr>\n",
       "      <th>nb_build</th>\n",
       "      <th></th>\n",
       "      <th></th>\n",
       "      <th></th>\n",
       "      <th></th>\n",
       "      <th></th>\n",
       "    </tr>\n",
       "  </thead>\n",
       "  <tbody>\n",
       "    <tr>\n",
       "      <th>38</th>\n",
       "      <td>alderlake</td>\n",
       "      <td>nightly</td>\n",
       "      <td>1</td>\n",
       "      <td>fat</td>\n",
       "      <td>2</td>\n",
       "    </tr>\n",
       "    <tr>\n",
       "      <th>39</th>\n",
       "      <td>alderlake</td>\n",
       "      <td>nightly</td>\n",
       "      <td>1</td>\n",
       "      <td>fat</td>\n",
       "      <td>3</td>\n",
       "    </tr>\n",
       "    <tr>\n",
       "      <th>41</th>\n",
       "      <td>alderlake</td>\n",
       "      <td>nightly</td>\n",
       "      <td>1</td>\n",
       "      <td>thin</td>\n",
       "      <td>3</td>\n",
       "    </tr>\n",
       "    <tr>\n",
       "      <th>45</th>\n",
       "      <td>alderlake</td>\n",
       "      <td>nightly</td>\n",
       "      <td>16</td>\n",
       "      <td>fat</td>\n",
       "      <td>3</td>\n",
       "    </tr>\n",
       "  </tbody>\n",
       "</table>\n",
       "</div>"
      ],
      "text/plain": [
       "               arch toolchain  codegen-units   lto  opt-level\n",
       "nb_build                                                     \n",
       "38        alderlake   nightly              1   fat          2\n",
       "39        alderlake   nightly              1   fat          3\n",
       "41        alderlake   nightly              1  thin          3\n",
       "45        alderlake   nightly             16   fat          3"
      ]
     },
     "execution_count": 24,
     "metadata": {},
     "output_type": "execute_result"
    }
   ],
   "source": [
    "optim_builds = build_table[build_table.index.isin(good_builds)]\n",
    "optim_builds"
   ]
  },
  {
   "cell_type": "code",
   "execution_count": 25,
   "id": "9829a4fd-f453-4800-9f4d-7efc833b8be0",
   "metadata": {},
   "outputs": [
    {
     "data": {
      "text/html": [
       "<div>\n",
       "<style scoped>\n",
       "    .dataframe tbody tr th:only-of-type {\n",
       "        vertical-align: middle;\n",
       "    }\n",
       "\n",
       "    .dataframe tbody tr th {\n",
       "        vertical-align: top;\n",
       "    }\n",
       "\n",
       "    .dataframe thead th {\n",
       "        text-align: right;\n",
       "    }\n",
       "</style>\n",
       "<table border=\"1\" class=\"dataframe\">\n",
       "  <thead>\n",
       "    <tr style=\"text-align: right;\">\n",
       "      <th></th>\n",
       "      <th>BLAKE2-256</th>\n",
       "      <th>relative diff (%)</th>\n",
       "      <th>SR25519-Verify</th>\n",
       "      <th>relative diff (%)</th>\n",
       "      <th>codegen-units</th>\n",
       "      <th>lto</th>\n",
       "      <th>opt-level</th>\n",
       "    </tr>\n",
       "    <tr>\n",
       "      <th>nb_build</th>\n",
       "      <th></th>\n",
       "      <th></th>\n",
       "      <th></th>\n",
       "      <th></th>\n",
       "      <th></th>\n",
       "      <th></th>\n",
       "      <th></th>\n",
       "    </tr>\n",
       "  </thead>\n",
       "  <tbody>\n",
       "    <tr>\n",
       "      <th>38</th>\n",
       "      <td>1400.0</td>\n",
       "      <td>4.5</td>\n",
       "      <td>1020.0</td>\n",
       "      <td>1.9</td>\n",
       "      <td>1.0</td>\n",
       "      <td>fat</td>\n",
       "      <td>2.0</td>\n",
       "    </tr>\n",
       "    <tr>\n",
       "      <th>39</th>\n",
       "      <td>1400.0</td>\n",
       "      <td>4.5</td>\n",
       "      <td>1019.7</td>\n",
       "      <td>1.8</td>\n",
       "      <td>1.0</td>\n",
       "      <td>fat</td>\n",
       "      <td>3.0</td>\n",
       "    </tr>\n",
       "    <tr>\n",
       "      <th>41</th>\n",
       "      <td>1410.0</td>\n",
       "      <td>5.2</td>\n",
       "      <td>1016.3</td>\n",
       "      <td>1.5</td>\n",
       "      <td>1.0</td>\n",
       "      <td>thin</td>\n",
       "      <td>3.0</td>\n",
       "    </tr>\n",
       "    <tr>\n",
       "      <th>45</th>\n",
       "      <td>1400.0</td>\n",
       "      <td>4.5</td>\n",
       "      <td>1022.9</td>\n",
       "      <td>2.1</td>\n",
       "      <td>16.0</td>\n",
       "      <td>fat</td>\n",
       "      <td>3.0</td>\n",
       "    </tr>\n",
       "    <tr>\n",
       "      <th>official</th>\n",
       "      <td>1340.0</td>\n",
       "      <td>0.0</td>\n",
       "      <td>1001.4</td>\n",
       "      <td>0.0</td>\n",
       "      <td>NaN</td>\n",
       "      <td>NaN</td>\n",
       "      <td>NaN</td>\n",
       "    </tr>\n",
       "    <tr>\n",
       "      <th>docker</th>\n",
       "      <td>1340.0</td>\n",
       "      <td>0.0</td>\n",
       "      <td>1002.6</td>\n",
       "      <td>0.1</td>\n",
       "      <td>NaN</td>\n",
       "      <td>NaN</td>\n",
       "      <td>NaN</td>\n",
       "    </tr>\n",
       "  </tbody>\n",
       "</table>\n",
       "</div>"
      ],
      "text/plain": [
       "          BLAKE2-256  relative diff (%)  SR25519-Verify  relative diff (%)  \\\n",
       "nb_build                                                                     \n",
       "38            1400.0                4.5          1020.0                1.9   \n",
       "39            1400.0                4.5          1019.7                1.8   \n",
       "41            1410.0                5.2          1016.3                1.5   \n",
       "45            1400.0                4.5          1022.9                2.1   \n",
       "official      1340.0                0.0          1001.4                0.0   \n",
       "docker        1340.0                0.0          1002.6                0.1   \n",
       "\n",
       "          codegen-units   lto  opt-level  \n",
       "nb_build                                  \n",
       "38                  1.0   fat        2.0  \n",
       "39                  1.0   fat        3.0  \n",
       "41                  1.0  thin        3.0  \n",
       "45                 16.0   fat        3.0  \n",
       "official            NaN   NaN        NaN  \n",
       "docker              NaN   NaN        NaN  "
      ]
     },
     "execution_count": 25,
     "metadata": {},
     "output_type": "execute_result"
    }
   ],
   "source": [
    "pd.concat([sum_stats_build, optim_builds[[\"codegen-units\", \"lto\", \"opt-level\"]]], axis=1)"
   ]
  },
  {
   "cell_type": "markdown",
   "id": "a71e7ab3-91ac-4d36-baa9-81c8fb666de9",
   "metadata": {},
   "source": [
    "## Comparison to v0.9.26"
   ]
  },
  {
   "cell_type": "markdown",
   "id": "80751054-7e63-43fd-bbef-3b2fd6438ac1",
   "metadata": {},
   "source": [
    "The optimal build on v0.9.26 was 32, which correspondsto our builds 41 (lto=thin) or 37 (lto=off) -- It is not entirely clear what is chosen by cargo. It is good to see that build 41 is also now included in our Pareto. For build 37, the results are worse."
   ]
  },
  {
   "cell_type": "code",
   "execution_count": 27,
   "id": "94f14daa-378a-426b-a1db-c619cf4c4822",
   "metadata": {},
   "outputs": [
    {
     "data": {
      "text/html": [
       "<div>\n",
       "<style scoped>\n",
       "    .dataframe tbody tr th:only-of-type {\n",
       "        vertical-align: middle;\n",
       "    }\n",
       "\n",
       "    .dataframe tbody tr th {\n",
       "        vertical-align: top;\n",
       "    }\n",
       "\n",
       "    .dataframe thead th {\n",
       "        text-align: right;\n",
       "    }\n",
       "</style>\n",
       "<table border=\"1\" class=\"dataframe\">\n",
       "  <thead>\n",
       "    <tr style=\"text-align: right;\">\n",
       "      <th></th>\n",
       "      <th>BLAKE2-256</th>\n",
       "      <th>relative diff (%)</th>\n",
       "      <th>SR25519-Verify</th>\n",
       "      <th>relative diff (%)</th>\n",
       "    </tr>\n",
       "    <tr>\n",
       "      <th>nb_build</th>\n",
       "      <th></th>\n",
       "      <th></th>\n",
       "      <th></th>\n",
       "      <th></th>\n",
       "    </tr>\n",
       "  </thead>\n",
       "  <tbody>\n",
       "    <tr>\n",
       "      <th>37</th>\n",
       "      <td>1410.0</td>\n",
       "      <td>5.2</td>\n",
       "      <td>1007.4</td>\n",
       "      <td>0.6</td>\n",
       "    </tr>\n",
       "    <tr>\n",
       "      <th>official</th>\n",
       "      <td>1340.0</td>\n",
       "      <td>0.0</td>\n",
       "      <td>1001.4</td>\n",
       "      <td>0.0</td>\n",
       "    </tr>\n",
       "    <tr>\n",
       "      <th>docker</th>\n",
       "      <td>1340.0</td>\n",
       "      <td>0.0</td>\n",
       "      <td>1002.6</td>\n",
       "      <td>0.1</td>\n",
       "    </tr>\n",
       "  </tbody>\n",
       "</table>\n",
       "</div>"
      ],
      "text/plain": [
       "          BLAKE2-256  relative diff (%)  SR25519-Verify  relative diff (%)\n",
       "nb_build                                                                  \n",
       "37            1410.0                5.2          1007.4                0.6\n",
       "official      1340.0                0.0          1001.4                0.0\n",
       "docker        1340.0                0.0          1002.6                0.1"
      ]
     },
     "execution_count": 27,
     "metadata": {},
     "output_type": "execute_result"
    }
   ],
   "source": [
    "build = '37' # reasons explained on website\n",
    "stats1 = stats_score1.loc[[build,'official', 'docker'], ['median', 'impr med off pct']]\n",
    "stats1 = stats1.rename(columns={\"median\": \"BLAKE2-256\", \"impr med off pct\": \"relative diff (%)\"})\n",
    "stats2 = stats_score2.loc[[build,'official', 'docker'], ['median', 'impr med off pct']]\n",
    "stats2 = stats2.rename(columns={\"median\": \"SR25519-Verify\", \"impr med off pct\": \"relative diff (%)\"})\n",
    "sum_stats_build = pd.concat([stats1, stats2], axis=1).round(1)\n",
    "sum_stats_build"
   ]
  },
  {
   "cell_type": "code",
   "execution_count": null,
   "id": "a337e40f-5191-4fe6-845b-fa0d9c7068c7",
   "metadata": {},
   "outputs": [],
   "source": []
  }
 ],
 "metadata": {
  "kernelspec": {
   "display_name": "Python 3 (ipykernel)",
   "language": "python",
   "name": "python3"
  },
  "language_info": {
   "codemirror_mode": {
    "name": "ipython",
    "version": 3
   },
   "file_extension": ".py",
   "mimetype": "text/x-python",
   "name": "python",
   "nbconvert_exporter": "python",
   "pygments_lexer": "ipython3",
   "version": "3.10.2"
  }
 },
 "nbformat": 4,
 "nbformat_minor": 5
}
